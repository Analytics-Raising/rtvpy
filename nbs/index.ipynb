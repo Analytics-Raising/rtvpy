{
 "cells": [
  {
   "cell_type": "markdown",
   "metadata": {},
   "source": [
    "---\n",
    "title: Introduction\n",
    "author: Juma Shafara\n",
    "date: \"10-30-2024\"\n",
    "---"
   ]
  },
  {
   "cell_type": "markdown",
   "metadata": {},
   "source": [
    "# rtvpy\n",
    "\n",
    "> New python package for automating internal data preprocessing for analysis and machine learning for Raising The Village"
   ]
  },
  {
   "cell_type": "markdown",
   "metadata": {},
   "source": [
    "## Table of Contents\n",
    "\n",
    "0. [Installation](00_installation.ipynb)\n",
    "1. [Setting up dotenv (`.env`)](01_setting_up_dotenv.ipynb)\n",
    "2. [Pushing files(artifacts) to Weights and Biases (wandb)](02_push_data_to_wandb.ipynb)\n",
    "3. [Getting variable decordings](03_getting_meanings.ipynb)\n",
    "4. [Manipulate datasets](data_manipulate.ipynb)"
   ]
  },
  {
   "cell_type": "markdown",
   "metadata": {},
   "source": [
    "more to follow ..."
   ]
  },
  {
   "cell_type": "markdown",
   "metadata": {},
   "source": []
  }
 ],
 "metadata": {
  "kernelspec": {
   "display_name": "python3",
   "language": "python",
   "name": "python3"
  }
 },
 "nbformat": 4,
 "nbformat_minor": 4
}
