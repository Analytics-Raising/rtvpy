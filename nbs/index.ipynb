{
 "cells": [
  {
   "cell_type": "markdown",
   "metadata": {},
   "source": [
    "---\n",
    "title: Introduction\n",
    "author: Juma Shafara\n",
    "date: \"10-30-2024\"\n",
    "---"
   ]
  },
  {
   "cell_type": "markdown",
   "metadata": {},
   "source": [
    "## RTV Pie\n",
    "\n",
    "> RTV pie is a new python package for automating internal data preprocessing for analysis and machine learning for Raising The Village"
   ]
  },
  {
   "cell_type": "markdown",
   "metadata": {},
   "source": [
    "## Table of Contents\n",
    "\n",
    "0. [Installation](Tutorials/00_installation.ipynb)\n",
    "1. [Setting up dotenv (`.env`)](Tutorials/01_setting_up_dotenv.ipynb)\n",
    "2. [Downloading files(artifacts) to Weights and Biases (wandb)](Tutorials/02_1_loading_wandb_artifact.ipynb)\n",
    "3. [Uploading files(artifacts) to Weights and Biases (wandb)](Tutorials/02_2_pushing_wandb_artifact.ipynb)\n",
    "4. [Getting variable decordings](Tutorials/03_getting_decodings.ipynb)\n",
    "5. [Manipulate datasets](Tutorials/04_manipulate.ipynb)\n",
    "6. [Heavy missingness](Tutorials/05_missingness.ipynb)"
   ]
  },
  {
   "cell_type": "markdown",
   "metadata": {},
   "source": [
    "more to follow ..."
   ]
  },
  {
   "cell_type": "markdown",
   "metadata": {},
   "source": []
  }
 ],
 "metadata": {
  "kernelspec": {
   "display_name": "python3",
   "language": "python",
   "name": "python3"
  }
 },
 "nbformat": 4,
 "nbformat_minor": 4
}
