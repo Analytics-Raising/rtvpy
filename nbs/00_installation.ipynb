{
 "cells": [
  {
   "cell_type": "markdown",
   "metadata": {},
   "source": [
    "---\n",
    "title: Installing\n",
    "author: Juma Shafara\n",
    "date: \"10-31-2024\"\n",
    "---"
   ]
  },
  {
   "cell_type": "markdown",
   "metadata": {},
   "source": [
    "To install and start using your internal package `rtvpy`, here’s a quick setup guide.\n",
    "\n",
    "### Step 1: Install `rtvpy`\n",
    "\n",
    "You can install rtvpy from pypi.org by running:\n",
    "\n",
    "```bash\n",
    "pip install rtvpy\n",
    "```\n",
    "\n",
    "Alternatively, if you have a local version you can navigate to the directory where `rtvpy` is located and run:\n",
    "\n",
    "```bash\n",
    "pip install /path/to/rtvpy\n",
    "```"
   ]
  },
  {
   "cell_type": "markdown",
   "metadata": {},
   "source": [
    "### Step 2: Verify Installation\n",
    "\n",
    "To verify that `rtvpy` is correctly installed and accessible, try checking its version or listing its functions:\n",
    "\n",
    "```python\n",
    "print(rtvpy.__version__)\n",
    "print(dir(rtvpy))\n",
    "```"
   ]
  },
  {
   "cell_type": "markdown",
   "metadata": {},
   "source": [
    "### Additional Tips\n",
    "\n",
    "- **Documentation**: Check any internal documentation for `rtvpy` if there are specific functions or examples provided.\n",
    "- **Dependencies**: Ensure that any dependencies required by `rtvpy` are also installed, which should be specified in `rtvpy`'s `requirements.txt` or `setup.py`."
   ]
  }
 ],
 "metadata": {
  "language_info": {
   "name": "python"
  }
 },
 "nbformat": 4,
 "nbformat_minor": 2
}
