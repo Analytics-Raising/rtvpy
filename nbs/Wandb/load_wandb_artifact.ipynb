{
 "cells": [
  {
   "cell_type": "markdown",
   "metadata": {},
   "source": [
    "---\n",
    "title: \"load_wandb_artifact\"\n",
    "author: \"Juma Shafara\"\n",
    "date: \"2024-11-01\"\n",
    "---"
   ]
  },
  {
   "cell_type": "code",
   "execution_count": null,
   "metadata": {},
   "outputs": [],
   "source": [
    "#| hide"
   ]
  },
  {
   "cell_type": "code",
   "execution_count": null,
   "metadata": {},
   "outputs": [],
   "source": [
    "import wandb\n",
    "import pandas as pd\n",
    "import os\n",
    "import shutil\n",
    "\n",
    "def load_wandb_artifact(\n",
    "        artifact_name: str = None, \n",
    "        entity: str = 'analytic',\n",
    "        project: str = 'Risk Assessment', \n",
    "        version: str = \"latest\", \n",
    "        dataset:bool=True,\n",
    "        download_dir: str = \"artifacts\", \n",
    "        download: bool = False) -> pd.DataFrame:\n",
    "    \"\"\"\n",
    "    Loads a specified WandB artifact as a DataFrame if it's a dataset, \n",
    "    and optionally deletes the downloaded artifacts folder after loading.\n",
    "\n",
    "    Parameters:\n",
    "    - entity (str): Your WandB username or team name.\n",
    "    - project (str): The WandB project name.\n",
    "    - artifact_name (str): The name of the artifact to download.\n",
    "    - version (str): The version of the artifact to download (default is 'latest').\n",
    "    - download_dir (str): The local directory to save the downloaded artifact (default is 'artifacts').\n",
    "    - download (bool): Whether to store a copy of the artifact on local disk\n",
    "\n",
    "    Returns:\n",
    "    - pd.DataFrame: Loaded dataset as a DataFrame if applicable.\n",
    "    \"\"\"\n",
    "    # Initialize WandB API\n",
    "    api = wandb.Api()\n",
    "\n",
    "    # Fetch the artifact\n",
    "    artifact = api.artifact(f\"{entity}/{project}/{artifact_name}:{version}\")\n",
    "\n",
    "    # Download the artifact to the specified directory\n",
    "    artifact_dir = artifact.download(download_dir)\n",
    "\n",
    "    # Check if there is a CSV or similar dataset file and load it\n",
    "    if dataset:\n",
    "        df = None\n",
    "        for file in os.listdir(artifact_dir):\n",
    "            file_path = os.path.join(artifact_dir, file)\n",
    "            if file.endswith('.csv'):\n",
    "                df = pd.read_csv(file_path)\n",
    "                break\n",
    "            elif file.endswith('.xlsx'):\n",
    "                df = pd.read_excel(file_path)\n",
    "                break\n",
    "\n",
    "    # Optionally delete the artifact directory after loading\n",
    "    if download:\n",
    "        print(file_path)\n",
    "    else:\n",
    "        shutil.rmtree(download_dir)\n",
    "\n",
    "    return df\n"
   ]
  },
  {
   "cell_type": "code",
   "execution_count": null,
   "metadata": {},
   "outputs": [],
   "source": [
    "#| hide\n",
    "import nbdev; nbdev.nbdev_export()"
   ]
  }
 ],
 "metadata": {
  "kernelspec": {
   "display_name": "base",
   "language": "python",
   "name": "python3"
  },
  "language_info": {
   "name": "python",
   "version": "3.13.0"
  }
 },
 "nbformat": 4,
 "nbformat_minor": 2
}
