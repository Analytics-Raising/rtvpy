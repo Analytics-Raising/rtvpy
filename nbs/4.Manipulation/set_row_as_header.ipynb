{
 "cells": [
  {
   "cell_type": "markdown",
   "metadata": {},
   "source": [
    "---\n",
    "title: set_row_as_header\n",
    "author: Juma Shafara\n",
    "date: '2024-11-19'\n",
    "---"
   ]
  },
  {
   "cell_type": "code",
   "execution_count": null,
   "metadata": {},
   "outputs": [],
   "source": [
    "import pandas as pd\n",
    "\n",
    "def set_row_as_header(df:pd.DataFrame=None, row_num:int=None) -> pd.DataFrame:\n",
    "    \"\"\"\n",
    "    Set the specified row as column names for the given DataFrame\n",
    "    \"\"\"\n",
    "\n",
    "    if row_num is None or df is None:\n",
    "        raise ValueError(\"df and row_num must be an provided\")\n",
    "    \n",
    "    new_header = df.iloc[row_num]  \n",
    "    df = df[row_num + 1:]  \n",
    "    df.columns = new_header  \n",
    "\n",
    "    # set header as strings\n",
    "    df.columns = df.columns.astype(str)    \n",
    "    \n",
    "    return df"
   ]
  }
 ],
 "metadata": {
  "language_info": {
   "name": "python"
  }
 },
 "nbformat": 4,
 "nbformat_minor": 2
}
