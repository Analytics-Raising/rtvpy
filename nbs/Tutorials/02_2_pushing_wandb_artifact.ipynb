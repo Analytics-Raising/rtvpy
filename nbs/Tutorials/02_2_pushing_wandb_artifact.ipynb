{
 "cells": [
  {
   "cell_type": "markdown",
   "metadata": {},
   "source": [
    "---\n",
    "title: \"Uploading from Weights and Biases\"\n",
    "author: \"Juma Shafara\"\n",
    "date: \"10-01-2024\"\n",
    "---"
   ]
  },
  {
   "cell_type": "markdown",
   "metadata": {},
   "source": [
    "To add your dataset to wandb, you need to have your wandb api key (like `WANDB_API_KEY = wandb_api_key_value)set in a `.env` file. [Read here to know how](). Then you can upload your dataset as below"
   ]
  },
  {
   "cell_type": "code",
   "execution_count": null,
   "metadata": {},
   "outputs": [
    {
     "name": "stderr",
     "output_type": "stream",
     "text": [
      "\u001b[34m\u001b[1mwandb\u001b[0m: Using wandb-core as the SDK backend. Please refer to https://wandb.me/wandb-core for more information.\n",
      "\u001b[34m\u001b[1mwandb\u001b[0m: Currently logged in as: \u001b[33mrtv\u001b[0m (\u001b[33manalytic\u001b[0m). Use \u001b[1m`wandb login --relogin`\u001b[0m to force relogin\n",
      "\u001b[34m\u001b[1mwandb\u001b[0m: \u001b[33mWARNING\u001b[0m If you're specifying your api key in code, ensure this code is not shared publicly.\n",
      "\u001b[34m\u001b[1mwandb\u001b[0m: \u001b[33mWARNING\u001b[0m Consider setting the WANDB_API_KEY environment variable, or running `wandb login` from the command line.\n",
      "\u001b[34m\u001b[1mwandb\u001b[0m: Appending key for api.wandb.ai to your netrc file: /home/jumashafara/.netrc\n"
     ]
    },
    {
     "data": {
      "text/html": [
       "Tracking run with wandb version 0.18.5"
      ],
      "text/plain": [
       "<IPython.core.display.HTML object>"
      ]
     },
     "metadata": {},
     "output_type": "display_data"
    },
    {
     "data": {
      "text/html": [
       "Run data is saved locally in <code>/home/jumashafara/rtv/rtvpy/nbs/Tutorials/wandb/run-20241105_110936-y0eatq8r</code>"
      ],
      "text/plain": [
       "<IPython.core.display.HTML object>"
      ]
     },
     "metadata": {},
     "output_type": "display_data"
    },
    {
     "data": {
      "text/html": [
       "Syncing run <strong><a href='https://wandb.ai/analytic/Risk%20Assessment/runs/y0eatq8r' target=\"_blank\">valiant-pond-42</a></strong> to <a href='https://wandb.ai/analytic/Risk%20Assessment' target=\"_blank\">Weights & Biases</a> (<a href='https://wandb.me/run' target=\"_blank\">docs</a>)<br/>"
      ],
      "text/plain": [
       "<IPython.core.display.HTML object>"
      ]
     },
     "metadata": {},
     "output_type": "display_data"
    },
    {
     "data": {
      "text/html": [
       " View project at <a href='https://wandb.ai/analytic/Risk%20Assessment' target=\"_blank\">https://wandb.ai/analytic/Risk%20Assessment</a>"
      ],
      "text/plain": [
       "<IPython.core.display.HTML object>"
      ]
     },
     "metadata": {},
     "output_type": "display_data"
    },
    {
     "data": {
      "text/html": [
       " View run at <a href='https://wandb.ai/analytic/Risk%20Assessment/runs/y0eatq8r' target=\"_blank\">https://wandb.ai/analytic/Risk%20Assessment/runs/y0eatq8r</a>"
      ],
      "text/plain": [
       "<IPython.core.display.HTML object>"
      ]
     },
     "metadata": {},
     "output_type": "display_data"
    },
    {
     "data": {
      "text/html": [
       " View run <strong style=\"color:#cdcd00\">valiant-pond-42</strong> at: <a href='https://wandb.ai/analytic/Risk%20Assessment/runs/y0eatq8r' target=\"_blank\">https://wandb.ai/analytic/Risk%20Assessment/runs/y0eatq8r</a><br/> View project at: <a href='https://wandb.ai/analytic/Risk%20Assessment' target=\"_blank\">https://wandb.ai/analytic/Risk%20Assessment</a><br/>Synced 4 W&B file(s), 0 media file(s), 3 artifact file(s) and 0 other file(s)"
      ],
      "text/plain": [
       "<IPython.core.display.HTML object>"
      ]
     },
     "metadata": {},
     "output_type": "display_data"
    },
    {
     "data": {
      "text/html": [
       "Find logs at: <code>./wandb/run-20241105_110936-y0eatq8r/logs</code>"
      ],
      "text/plain": [
       "<IPython.core.display.HTML object>"
      ]
     },
     "metadata": {},
     "output_type": "display_data"
    }
   ],
   "source": [
    "from rtvpy.wandb_manager import push_wandb_artifact\n",
    "\n",
    "push_wandb_artifact(file_path='2022_data_selected.csv', \n",
    "            job_type='2022_dataset_for_testing',\n",
    "            artifact_type='dataset',\n",
    "            description='sample dataset for testing')"
   ]
  }
 ],
 "metadata": {
  "kernelspec": {
   "display_name": "python3",
   "language": "python",
   "name": "python3"
  }
 },
 "nbformat": 4,
 "nbformat_minor": 2
}
