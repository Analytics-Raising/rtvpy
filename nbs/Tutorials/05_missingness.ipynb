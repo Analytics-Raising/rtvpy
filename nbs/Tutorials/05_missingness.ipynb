{
 "cells": [
  {
   "cell_type": "code",
   "execution_count": null,
   "metadata": {},
   "outputs": [],
   "source": [
    "#| hide\n",
    "#| default_exp handle_missingness"
   ]
  },
  {
   "cell_type": "code",
   "execution_count": null,
   "metadata": {},
   "outputs": [],
   "source": [
    "import pandas as pd"
   ]
  },
  {
   "cell_type": "code",
   "execution_count": null,
   "metadata": {},
   "outputs": [],
   "source": [
    "#| hide\n",
    "#| export\n",
    "import pandas as pd\n",
    "\n",
    "def empty_columns(df:pd.DataFrame=None):\n",
    "    \"\"\"\n",
    "    Returns a list of column names that have all NaN values.\n",
    "\n",
    "    Args:\n",
    "        df (pandas.DataFrame): The input DataFrame.\n",
    "\n",
    "    Returns:\n",
    "        list: A list of column names that have all NaN values.\n",
    "    \"\"\"\n",
    "    # Get the column names where all values are NaN\n",
    "    empty_cols = df.columns[df.isna().all()].tolist()\n",
    "    return empty_cols"
   ]
  },
  {
   "cell_type": "code",
   "execution_count": null,
   "metadata": {},
   "outputs": [],
   "source": [
    "#| hide\n",
    "#| export\n",
    "import pandas as pd\n",
    "# return all empty rows\n",
    "def empty_rows(df:pd.DataFrame=None):\n",
    "    \"\"\"\n",
    "    Returns a list of row indices that have all NaN values.\n",
    "\n",
    "    Args:\n",
    "        df (pandas.DataFrame): The input DataFrame.\n",
    "\n",
    "    Returns:\n",
    "        list: A list of row indices that have all NaN values.\n",
    "    \"\"\"\n",
    "    # Get the row indices where all values are NaN\n",
    "    empty_rows = df.index[df.isna().all(axis=1)].tolist()\n",
    "    return empty_rows\n"
   ]
  },
  {
   "cell_type": "code",
   "execution_count": null,
   "metadata": {},
   "outputs": [],
   "source": [
    "#| hide\n",
    "#| export\n",
    "import pandas as pd\n",
    "def empty_columns_with_threshold(df, threshold):\n",
    "    \"\"\"\n",
    "    Returns a list of column names that have a percentage of NaN values greater than or equal to the specified threshold.\n",
    "\n",
    "    Args:\n",
    "        df (pandas.DataFrame): The input DataFrame.\n",
    "        threshold (float): The minimum percentage of NaN values required (between 0 and 1).\n",
    "\n",
    "    Returns:\n",
    "        list: A list of column names that have a percentage of NaN values greater than or equal to the threshold.\n",
    "    \"\"\"\n",
    "    # Calculate the percentage of NaN values for each column\n",
    "    nan_percentages = (df.isna().sum() / len(df)) * 100\n",
    "    # Get the column names where the percentage of NaN values is greater than or equal to the threshold\n",
    "    columns_to_drop = nan_percentages[nan_percentages >= threshold].index.tolist()\n",
    "    return columns_to_drop"
   ]
  },
  {
   "cell_type": "code",
   "execution_count": null,
   "metadata": {},
   "outputs": [],
   "source": [
    "#| hide\n",
    "#| export\n",
    "import pandas as pd\n",
    "from rtvpy.handle_missingness import empty_columns\n",
    "\n",
    "def remove_empty_columns(df):\n",
    "\n",
    "    \"\"\"\n",
    "    Removes columns that have all NaN values from the input DataFrame.\n",
    "\n",
    "    Args:\n",
    "        df (pandas.DataFrame): The input DataFrame.\n",
    "\n",
    "    Returns:\n",
    "        pandas.DataFrame: The DataFrame with empty columns removed.\n",
    "    \"\"\"\n",
    "    # Get the column names that have all NaN values\n",
    "    empty_cols = empty_columns(df)\n",
    "    # Drop the columns with all NaN values\n",
    "    df = df.drop(empty_cols, axis=1)\n",
    "    return df"
   ]
  },
  {
   "cell_type": "code",
   "execution_count": null,
   "metadata": {},
   "outputs": [],
   "source": [
    "#| hide\n",
    "import nbdev; nbdev.nbdev_export()"
   ]
  }
 ],
 "metadata": {
  "kernelspec": {
   "display_name": "base",
   "language": "python",
   "name": "python3"
  },
  "language_info": {
   "name": "python",
   "version": "3.13.0"
  }
 },
 "nbformat": 4,
 "nbformat_minor": 2
}
