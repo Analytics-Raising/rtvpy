{
 "cells": [
  {
   "cell_type": "markdown",
   "metadata": {},
   "source": [
    "---\n",
    "title: \"Uploading from Weights and Biases\"\n",
    "author: \"Juma Shafara\"\n",
    "date: \"10-01-2024\"\n",
    "---"
   ]
  },
  {
   "cell_type": "markdown",
   "metadata": {},
   "source": [
    "To add your dataset to wandb, you need to have your wandb api key (like `WANDB_API_KEY = wandb_api_key_value)set in a `.env` file. [Read here to know how](). Then you can upload your dataset as below"
   ]
  },
  {
   "cell_type": "code",
   "execution_count": null,
   "metadata": {},
   "outputs": [],
   "source": [
    "from rtvpy.wandb_manager import pushWandbArtifact\n",
    "\n",
    "pushWandbArtifact(file_path='2022_data_selected.csv', \n",
    "            job_type='2022_dataset_for_testing',\n",
    "            artifact_type='dataset',\n",
    "            description='sample dataset for testing')"
   ]
  },
  {
   "cell_type": "code",
   "execution_count": null,
   "metadata": {},
   "outputs": [],
   "source": []
  }
 ],
 "metadata": {
  "kernelspec": {
   "display_name": "python3",
   "language": "python",
   "name": "python3"
  }
 },
 "nbformat": 4,
 "nbformat_minor": 2
}
