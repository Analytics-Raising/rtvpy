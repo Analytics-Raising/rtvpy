{
 "cells": [
  {
   "cell_type": "markdown",
   "metadata": {},
   "source": [
    "---\n",
    "title: \"Loading from Weights and Biases\"\n",
    "author: \"Juma Shafara\"\n",
    "date: \"10-01-2024\"\n",
    "date-modified: \"11-07-2024\"\n",
    "---"
   ]
  },
  {
   "cell_type": "markdown",
   "metadata": {},
   "source": [
    "## Loading a dataset from wandb\n",
    "\n",
    "You can automatically load a dataset from our wandb artifacts by using the code `load_wandb_artifact` from rtvpy as illustrated below"
   ]
  },
  {
   "cell_type": "code",
   "execution_count": null,
   "metadata": {},
   "outputs": [],
   "source": [
    "from rtvpy import load_wandb_artifact\n",
    "\n",
    "dataset = load_wandb_artifact(\n",
    "    artifact_name='2021_year2_set.csv')\n",
    "\n",
    "dataset.head(n=2)"
   ]
  },
  {
   "cell_type": "markdown",
   "metadata": {},
   "source": [
    "## Downloading datasets\n",
    "\n",
    "The example above does not store a copy of the dataset on your local machine, if you would like a copy stored on your local machine, you can specify the `download` parameter as showed"
   ]
  },
  {
   "cell_type": "code",
   "execution_count": null,
   "metadata": {},
   "outputs": [],
   "source": [
    "from rtvpy import load_wandb_artifact\n",
    "\n",
    "dataset = load_wandb_artifact(\n",
    "    artifact_name='2021_year2_set.csv', \n",
    "    download=True)\n",
    "\n",
    "dataset.head(n=2)"
   ]
  },
  {
   "cell_type": "markdown",
   "metadata": {},
   "source": [
    "## (down)Load from other accounts or/and projects\n",
    "\n",
    "The code snippets above automatically attempt to load/download the datasets from the 'Risk Assessment' project of the 'analytics' team. If you would like to access a dataset from a difference team or/and project, you can set `entity` and `project` parameters of the `load_wandb_artifact()` function as showed below"
   ]
  },
  {
   "cell_type": "code",
   "execution_count": null,
   "metadata": {},
   "outputs": [],
   "source": [
    "from rtvpy.wandb_manager import load_wandb_artifact\n",
    "\n",
    "dataset = load_wandb_artifact(\n",
    "    entity='analytic',\n",
    "    project='Risk Assessment',\n",
    "    artifact_name='2021_year2_set.csv', \n",
    "    download=True)\n",
    "\n",
    "dataset.head(n=2)"
   ]
  },
  {
   "cell_type": "markdown",
   "metadata": {},
   "source": [
    "## All parameters\n",
    "\n",
    "Below is the list of all parameters that you can modify to get desired results\n",
    "\n",
    "- `entity` (str): Your WandB username or team name.\n",
    "- `project` (str): The WandB project name.\n",
    "- `artifact_name` (str): The name of the artifact to download.\n",
    "- `version` (str): The version of the artifact to download (default is 'latest').\n",
    "- `download_dir` (str): The local directory to save the downloaded artifact (default is 'artifacts').\n",
    "- `download` (bool): Whether to delete the downloaded artifacts folder after loading the data.\n"
   ]
  }
 ],
 "metadata": {
  "language_info": {
   "name": "python"
  }
 },
 "nbformat": 4,
 "nbformat_minor": 2
}
