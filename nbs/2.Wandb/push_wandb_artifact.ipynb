{
 "cells": [
  {
   "cell_type": "markdown",
   "metadata": {},
   "source": [
    "---\n",
    "title: push_wandb_artifact\n",
    "author: Juma Shafara\n",
    "date: '2024-11-19'\n",
    "---"
   ]
  },
  {
   "cell_type": "markdown",
   "metadata": {},
   "source": [
    "Uploads a dataset to Weights & Biases as an artifact."
   ]
  },
  {
   "cell_type": "code",
   "execution_count": null,
   "metadata": {},
   "outputs": [],
   "source": [
    "\n",
    "import os\n",
    "import wandb\n",
    "import pandas as pd\n",
    "from dotenv import load_dotenv\n",
    "\n",
    "load_dotenv()\n",
    "\n",
    "def push_wandb_artifact(file_path: str, \n",
    "                      job_type: str, \n",
    "                      description: str = 'no description', \n",
    "                      artifact_type: str = 'dataset',\n",
    "                      project:str = \"Risk Assessment\",\n",
    "                      ) -> None:\n",
    "    \"\"\"\n",
    "    Uploads a dataset to Weights & Biases as an artifact.\n",
    "\n",
    "    Args:\n",
    "        file_path (str): Path to the file to upload.\n",
    "        job_type (str): The type of job (e.g., \"training\", \"evaluation\").\n",
    "        description (str, optional): Description of the artifact. Defaults to 'no description'.\n",
    "        artifact_type (str, optional): Type of the artifact (e.g., \"dataset\"). Defaults to 'dataset'.\n",
    "        project (str, optional): Name of the Weights & Biases project. Defaults to \"Risk Assessment\".\n",
    "\n",
    "    Returns:\n",
    "        None\n",
    "    \n",
    "    Raises:\n",
    "        ValueError: If file_path or job_type are not provided.\n",
    "        ConnectionError: If there is an issue connecting to Weights & Biases.\n",
    "    \"\"\"\n",
    "    # Validate arguments\n",
    "    if not file_path:\n",
    "        raise ValueError(\"File path cannot be empty. Please provide a valid path to the data file.\")\n",
    "    if not job_type:\n",
    "        raise ValueError(\"Job type cannot be empty. Please provide a valid job type.\")\n",
    "\n",
    "    # Initialize Weights & Biases connection\n",
    "    try:\n",
    "        wandb.login(key=os.environ.get(\"WANDB_API_KEY\"))\n",
    "        wandb.init(project=project, job_type=job_type)\n",
    "    except wandb.errors.CommError as e:\n",
    "        raise ConnectionError(\"Failed to connect to Weights & Biases. Check your API key and internet connection.\") from e\n",
    "\n",
    "    # Create and log artifact\n",
    "    artifact = wandb.Artifact(\n",
    "        name=f\"{job_type}_{os.path.basename(file_path)}\",\n",
    "        type=artifact_type,\n",
    "        description=description,\n",
    "    )\n",
    "    artifact.add_file(file_path)\n",
    "\n",
    "    try:\n",
    "        wandb.log_artifact(artifact)\n",
    "    finally:\n",
    "        wandb.finish()\n"
   ]
  }
 ],
 "metadata": {
  "language_info": {
   "name": "python"
  }
 },
 "nbformat": 4,
 "nbformat_minor": 2
}
