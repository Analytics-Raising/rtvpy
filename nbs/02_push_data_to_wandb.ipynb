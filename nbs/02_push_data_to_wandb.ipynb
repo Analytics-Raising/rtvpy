{
 "cells": [
  {
   "cell_type": "markdown",
   "metadata": {},
   "source": [
    "---\n",
    "title: \"Pushing Data to Weights and Biases\"\n",
    "author: \"Juma Shafara\"\n",
    "date: \"10-30-2024\"\n",
    "---"
   ]
  },
  {
   "cell_type": "markdown",
   "metadata": {},
   "source": [
    "To add your dataset to wandb, you need to have your wandb api key (like `WANDB_API_KEY = wandb_api_key_value)set in a `.env` file. [Read here to know how](). Then you can upload your dataset as below\n"
   ]
  },
  {
   "cell_type": "code",
   "execution_count": null,
   "metadata": {},
   "outputs": [],
   "source": [
    "#| default_exp wandb_manager"
   ]
  },
  {
   "cell_type": "code",
   "execution_count": null,
   "metadata": {},
   "outputs": [],
   "source": [
    "# | hide\n",
    "# | export\n",
    "import pandas as pd\n",
    "import os\n",
    "import wandb\n",
    "from dotenv import load_dotenv\n",
    "\n",
    "load_dotenv()\n",
    "\n",
    "def pushDatasetToWandb(file_path: str, job_type: str, description: str = 'no description',\n",
    "                  artifact_type: str = 'dataset'):\n",
    "    \"\"\"\n",
    "    Uploads a dataset to Weights & Biases as an artifact.\n",
    "    \n",
    "    Args:\n",
    "        file_path (str): Path to the file to upload.\n",
    "        job_type (str): The type of job (e.g., \"training\", \"evaluation\").\n",
    "        description (str, optional): Description of the artifact. Defaults to 'no description'.\n",
    "        artifact_type (str, optional): Type of the artifact (e.g., \"dataset\"). Defaults to 'dataset'.\n",
    "    \n",
    "    Raises:\n",
    "        ValueError: If file_path or job_type are not provided or if the file cannot be read.\n",
    "    \"\"\"\n",
    "    \n",
    "    # Check for required arguments\n",
    "    if not file_path:\n",
    "        raise ValueError(\"File path cannot be empty. Please provide a valid path to the data file.\")\n",
    "    \n",
    "    if not job_type:\n",
    "        raise ValueError(\"Job type cannot be empty. Please provide a valid job type.\")\n",
    "\n",
    "    # Initialize Weights & Biases\n",
    "    try:\n",
    "        wandb.login(key=os.environ[\"WANDB_API_KEY\"])\n",
    "        wandb.init(project=\"Risk Assessment\", job_type=job_type)\n",
    "    except wandb.errors.CommError as e:\n",
    "        raise ConnectionError(\"Failed to connect to Weights & Biases. Check your API key and internet connection.\") from e\n",
    "\n",
    "    # Load the data and create artifact\n",
    "    try:\n",
    "        data = pd.read_csv(file_path)\n",
    "    except FileNotFoundError:\n",
    "        raise FileNotFoundError(f\"File not found: {file_path}. Please check the file path.\")\n",
    "    except pd.errors.EmptyDataError:\n",
    "        raise ValueError(f\"File at {file_path} is empty or invalid.\")\n",
    "\n",
    "    artifact = wandb.Artifact(\n",
    "        name=f\"{job_type}_{os.path.basename(file_path)}\",\n",
    "        type=artifact_type,\n",
    "        description=description,\n",
    "    )\n",
    "    artifact.add_file(file_path)\n",
    "\n",
    "    # Log artifact and metadata\n",
    "    try:\n",
    "        wandb.log_artifact(artifact)\n",
    "        wandb.log({\n",
    "            'dataset_size': len(data),\n",
    "            'num_features': len(data.columns),\n",
    "            'memory_usage_mb': data.memory_usage(deep=True).sum() / (1024 ** 2)\n",
    "        })\n",
    "    finally:\n",
    "        wandb.finish()\n"
   ]
  },
  {
   "cell_type": "code",
   "execution_count": null,
   "metadata": {},
   "outputs": [],
   "source": [
    "#| hide\n",
    "import nbdev; nbdev.nbdev_export()"
   ]
  },
  {
   "cell_type": "code",
   "execution_count": null,
   "metadata": {},
   "outputs": [],
   "source": [
    "from rtvpy.wandb_manager import pushDatasetToWandb"
   ]
  },
  {
   "cell_type": "code",
   "execution_count": null,
   "metadata": {},
   "outputs": [
    {
     "name": "stderr",
     "output_type": "stream",
     "text": [
      "\u001b[34m\u001b[1mwandb\u001b[0m: Using wandb-core as the SDK backend. Please refer to https://wandb.me/wandb-core for more information.\n",
      "\u001b[34m\u001b[1mwandb\u001b[0m: W&B API key is configured. Use \u001b[1m`wandb login --relogin`\u001b[0m to force relogin\n",
      "\u001b[34m\u001b[1mwandb\u001b[0m: \u001b[33mWARNING\u001b[0m If you're specifying your api key in code, ensure this code is not shared publicly.\n",
      "\u001b[34m\u001b[1mwandb\u001b[0m: \u001b[33mWARNING\u001b[0m Consider setting the WANDB_API_KEY environment variable, or running `wandb login` from the command line.\n",
      "\u001b[34m\u001b[1mwandb\u001b[0m: Appending key for api.wandb.ai to your netrc file: /home/jumashafara/.netrc\n",
      "\u001b[34m\u001b[1mwandb\u001b[0m: Currently logged in as: \u001b[33mrtv\u001b[0m (\u001b[33manalytic\u001b[0m). Use \u001b[1m`wandb login --relogin`\u001b[0m to force relogin\n"
     ]
    },
    {
     "data": {
      "text/html": [
       "Tracking run with wandb version 0.18.5"
      ],
      "text/plain": [
       "<IPython.core.display.HTML object>"
      ]
     },
     "metadata": {},
     "output_type": "display_data"
    },
    {
     "data": {
      "text/html": [
       "Run data is saved locally in <code>/home/jumashafara/rtv/rtvpy/nbs/wandb/run-20241031_114307-n6f268e5</code>"
      ],
      "text/plain": [
       "<IPython.core.display.HTML object>"
      ]
     },
     "metadata": {},
     "output_type": "display_data"
    },
    {
     "data": {
      "text/html": [
       "Syncing run <strong><a href='https://wandb.ai/analytic/Risk%20Assessment/runs/n6f268e5' target=\"_blank\">fearsome-enchantment-8</a></strong> to <a href='https://wandb.ai/analytic/Risk%20Assessment' target=\"_blank\">Weights & Biases</a> (<a href='https://wandb.me/run' target=\"_blank\">docs</a>)<br/>"
      ],
      "text/plain": [
       "<IPython.core.display.HTML object>"
      ]
     },
     "metadata": {},
     "output_type": "display_data"
    },
    {
     "data": {
      "text/html": [
       " View project at <a href='https://wandb.ai/analytic/Risk%20Assessment' target=\"_blank\">https://wandb.ai/analytic/Risk%20Assessment</a>"
      ],
      "text/plain": [
       "<IPython.core.display.HTML object>"
      ]
     },
     "metadata": {},
     "output_type": "display_data"
    },
    {
     "data": {
      "text/html": [
       " View run at <a href='https://wandb.ai/analytic/Risk%20Assessment/runs/n6f268e5' target=\"_blank\">https://wandb.ai/analytic/Risk%20Assessment/runs/n6f268e5</a>"
      ],
      "text/plain": [
       "<IPython.core.display.HTML object>"
      ]
     },
     "metadata": {},
     "output_type": "display_data"
    },
    {
     "data": {
      "text/html": [
       "<style>\n",
       "    table.wandb td:nth-child(1) { padding: 0 10px; text-align: left ; width: auto;} td:nth-child(2) {text-align: left ; width: 100%}\n",
       "    .wandb-row { display: flex; flex-direction: row; flex-wrap: wrap; justify-content: flex-start; width: 100% }\n",
       "    .wandb-col { display: flex; flex-direction: column; flex-basis: 100%; flex: 1; padding: 10px; }\n",
       "    </style>\n",
       "<div class=\"wandb-row\"><div class=\"wandb-col\"><h3>Run history:</h3><br/><table class=\"wandb\"><tr><td>dataset_size</td><td>▁</td></tr><tr><td>memory_usage_mb</td><td>▁</td></tr><tr><td>num_features</td><td>▁</td></tr></table><br/></div><div class=\"wandb-col\"><h3>Run summary:</h3><br/><table class=\"wandb\"><tr><td>dataset_size</td><td>7418</td></tr><tr><td>memory_usage_mb</td><td>2.35131</td></tr><tr><td>num_features</td><td>24</td></tr></table><br/></div></div>"
      ],
      "text/plain": [
       "<IPython.core.display.HTML object>"
      ]
     },
     "metadata": {},
     "output_type": "display_data"
    },
    {
     "data": {
      "text/html": [
       " View run <strong style=\"color:#cdcd00\">fearsome-enchantment-8</strong> at: <a href='https://wandb.ai/analytic/Risk%20Assessment/runs/n6f268e5' target=\"_blank\">https://wandb.ai/analytic/Risk%20Assessment/runs/n6f268e5</a><br/> View project at: <a href='https://wandb.ai/analytic/Risk%20Assessment' target=\"_blank\">https://wandb.ai/analytic/Risk%20Assessment</a><br/>Synced 5 W&B file(s), 0 media file(s), 0 artifact file(s) and 0 other file(s)"
      ],
      "text/plain": [
       "<IPython.core.display.HTML object>"
      ]
     },
     "metadata": {},
     "output_type": "display_data"
    },
    {
     "data": {
      "text/html": [
       "Find logs at: <code>./wandb/run-20241031_114307-n6f268e5/logs</code>"
      ],
      "text/plain": [
       "<IPython.core.display.HTML object>"
      ]
     },
     "metadata": {},
     "output_type": "display_data"
    }
   ],
   "source": [
    "pushDatasetToWandb(file_path='2022_data_selected.csv', \n",
    "            job_type='2022_dataset_for_testing',\n",
    "            artifact_type='dataset',\n",
    "            description='sample dataset for testing')"
   ]
  },
  {
   "cell_type": "code",
   "execution_count": null,
   "metadata": {},
   "outputs": [],
   "source": []
  }
 ],
 "metadata": {
  "kernelspec": {
   "display_name": "python3",
   "language": "python",
   "name": "python3"
  }
 },
 "nbformat": 4,
 "nbformat_minor": 2
}
