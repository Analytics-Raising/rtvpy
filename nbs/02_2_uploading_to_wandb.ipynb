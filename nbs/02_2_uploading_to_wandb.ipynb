{
 "cells": [
  {
   "cell_type": "code",
   "execution_count": 1,
   "metadata": {},
   "outputs": [],
   "source": [
    "#| default_exp wandb_manager"
   ]
  },
  {
   "cell_type": "markdown",
   "metadata": {},
   "source": [
    "---\n",
    "title: \"Uploading from Weights and Biases\"\n",
    "author: \"Juma Shafara\"\n",
    "date: \"10-01-2024\"\n",
    "---"
   ]
  },
  {
   "cell_type": "markdown",
   "metadata": {},
   "source": [
    "To add your dataset to wandb, you need to have your wandb api key (like `WANDB_API_KEY = wandb_api_key_value)set in a `.env` file. [Read here to know how](). Then you can upload your dataset as below"
   ]
  },
  {
   "cell_type": "code",
   "execution_count": null,
   "metadata": {},
   "outputs": [],
   "source": [
    "# | hide\n",
    "# | export\n",
    "import pandas as pd\n",
    "import os\n",
    "import wandb\n",
    "from dotenv import load_dotenv\n",
    "\n",
    "load_dotenv()\n",
    "\n",
    "def pushDatasetToWandb(file_path: str, job_type: str, description: str = 'no description',\n",
    "                  artifact_type: str = 'dataset'):\n",
    "    \"\"\"\n",
    "    Uploads a dataset to Weights & Biases as an artifact.\n",
    "    \n",
    "    Args:\n",
    "        file_path (str): Path to the file to upload.\n",
    "        job_type (str): The type of job (e.g., \"training\", \"evaluation\").\n",
    "        description (str, optional): Description of the artifact. Defaults to 'no description'.\n",
    "        artifact_type (str, optional): Type of the artifact (e.g., \"dataset\"). Defaults to 'dataset'.\n",
    "    \n",
    "    Raises:\n",
    "        ValueError: If file_path or job_type are not provided or if the file cannot be read.\n",
    "    \"\"\"\n",
    "    \n",
    "    # Check for required arguments\n",
    "    if not file_path:\n",
    "        raise ValueError(\"File path cannot be empty. Please provide a valid path to the data file.\")\n",
    "    \n",
    "    if not job_type:\n",
    "        raise ValueError(\"Job type cannot be empty. Please provide a valid job type.\")\n",
    "\n",
    "    # Initialize Weights & Biases\n",
    "    try:\n",
    "        wandb.login(key=os.environ[\"WANDB_API_KEY\"])\n",
    "        wandb.init(project=\"Risk Assessment\", job_type=job_type)\n",
    "    except wandb.errors.CommError as e:\n",
    "        raise ConnectionError(\"Failed to connect to Weights & Biases. Check your API key and internet connection.\") from e\n",
    "\n",
    "    # Load the data and create artifact\n",
    "    try:\n",
    "        data = pd.read_csv(file_path)\n",
    "    except FileNotFoundError:\n",
    "        raise FileNotFoundError(f\"File not found: {file_path}. Please check the file path.\")\n",
    "    except pd.errors.EmptyDataError:\n",
    "        raise ValueError(f\"File at {file_path} is empty or invalid.\")\n",
    "\n",
    "    artifact = wandb.Artifact(\n",
    "        name=f\"{job_type}_{os.path.basename(file_path)}\",\n",
    "        type=artifact_type,\n",
    "        description=description,\n",
    "    )\n",
    "    artifact.add_file(file_path)\n",
    "\n",
    "    # Log artifact and metadata\n",
    "    try:\n",
    "        wandb.log_artifact(artifact)\n",
    "        wandb.log({\n",
    "            'dataset_size': len(data),\n",
    "            'num_features': len(data.columns),\n",
    "            'memory_usage_mb': data.memory_usage(deep=True).sum() / (1024 ** 2)\n",
    "        })\n",
    "    finally:\n",
    "        wandb.finish()\n"
   ]
  },
  {
   "cell_type": "code",
   "execution_count": null,
   "metadata": {},
   "outputs": [],
   "source": [
    "from rtvpy.wandb_manager import pushDatasetToWandb\n",
    "\n",
    "pushDatasetToWandb(file_path='2022_data_selected.csv', \n",
    "            job_type='2022_dataset_for_testing',\n",
    "            artifact_type='dataset',\n",
    "            description='sample dataset for testing')"
   ]
  },
  {
   "cell_type": "code",
   "execution_count": null,
   "metadata": {},
   "outputs": [],
   "source": []
  },
  {
   "cell_type": "code",
   "execution_count": null,
   "metadata": {},
   "outputs": [],
   "source": [
    "#| hide\n",
    "import nbdev; nbdev.nbdev_export()"
   ]
  }
 ],
 "metadata": {
  "kernelspec": {
   "display_name": "base",
   "language": "python",
   "name": "python3"
  },
  "language_info": {
   "codemirror_mode": {
    "name": "ipython",
    "version": 3
   },
   "file_extension": ".py",
   "mimetype": "text/x-python",
   "name": "python",
   "nbconvert_exporter": "python",
   "pygments_lexer": "ipython3",
   "version": "3.12.6"
  }
 },
 "nbformat": 4,
 "nbformat_minor": 2
}
