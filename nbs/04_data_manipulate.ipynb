{
 "cells": [
  {
   "cell_type": "markdown",
   "metadata": {},
   "source": [
    "---\n",
    "title: Data Manipulation\n",
    "author: Juma Shafara\n",
    "date: \"10-31-2024\"\n",
    "---"
   ]
  },
  {
   "cell_type": "code",
   "execution_count": null,
   "metadata": {},
   "outputs": [],
   "source": [
    "#| default_exp manipulate"
   ]
  },
  {
   "cell_type": "code",
   "execution_count": 1,
   "metadata": {},
   "outputs": [],
   "source": [
    "#| hide\n",
    "#| export\n",
    "\n",
    "import pandas as pd\n",
    "\n",
    "def setRowAsHeader(df:pd.DataFrame=None, row_num:int=None) -> pd.DataFrame:\n",
    "    \"\"\"\n",
    "    Set the specified row as column names for the given DataFrame\n",
    "    \"\"\"\n",
    "\n",
    "    if row_num is None or df is None:\n",
    "        raise ValueError(\"df and row_num must be an provided\")\n",
    "    \n",
    "    new_header = df.iloc[row_num]  \n",
    "    df = df[row_num + 1:]  \n",
    "    df.columns = new_header  \n",
    "\n",
    "    # set header as strings\n",
    "    df.columns = df.columns.astype(str)    \n",
    "    \n",
    "    return df"
   ]
  },
  {
   "cell_type": "markdown",
   "metadata": {},
   "source": [
    "## Set specific row as header\n",
    "\n",
    "To set a specific row as header (column names), you can use the `setRowAsHeader` from `manipulate` as below"
   ]
  },
  {
   "cell_type": "code",
   "execution_count": 3,
   "metadata": {},
   "outputs": [
    {
     "data": {
      "text/plain": [
       "Index(['1.0', '6.0', '55.0', '1.0', '0.3265457238059978', '0', '0', '0', '0',\n",
       "       '1', '1', '0', '2.0', '0', '1.0', '1', '0', '97', '0', '0.0', '-99',\n",
       "       '0', '1', 'Struggling'],\n",
       "      dtype='object', name=0)"
      ]
     },
     "execution_count": 3,
     "metadata": {},
     "output_type": "execute_result"
    }
   ],
   "source": [
    "import pandas as pd\n",
    "from rtvpy.manipulate import setRowAsHeader\n",
    "\n",
    "dataset = pd.read_csv('2022_data_selected.csv')\n",
    "dataset = setRowAsHeader(df=dataset, row_num=0)\n",
    "\n",
    "dataset.columns"
   ]
  },
  {
   "cell_type": "code",
   "execution_count": 2,
   "metadata": {},
   "outputs": [],
   "source": [
    "#| hide\n",
    "import nbdev; nbdev.nbdev_export()"
   ]
  },
  {
   "cell_type": "code",
   "execution_count": null,
   "metadata": {},
   "outputs": [],
   "source": []
  }
 ],
 "metadata": {
  "kernelspec": {
   "display_name": "base",
   "language": "python",
   "name": "python3"
  },
  "language_info": {
   "codemirror_mode": {
    "name": "ipython",
    "version": 3
   },
   "file_extension": ".py",
   "mimetype": "text/x-python",
   "name": "python",
   "nbconvert_exporter": "python",
   "pygments_lexer": "ipython3",
   "version": "3.12.6"
  }
 },
 "nbformat": 4,
 "nbformat_minor": 2
}
