{
 "cells": [
  {
   "cell_type": "markdown",
   "metadata": {},
   "source": [
    "---\n",
    "title: create_region_district_mapping\n",
    "author: Twinomugisha Morris\n",
    "---"
   ]
  },
  {
   "cell_type": "code",
   "execution_count": null,
   "metadata": {},
   "outputs": [],
   "source": [
    "import pandas as pd\n",
    "\n",
    "def create_region_district_mapping():\n",
    "    \"\"\"\n",
    "    Creates a dictionary mapping districts to their respective regions\n",
    "    Including explicit entries for GAC and Standard variants\n",
    "    All district keys are in lowercase for consistent matching\n",
    "    \"\"\"\n",
    "    mapping = {\n",
    "        # South West Region\n",
    "        'mitooma': 'South_West',\n",
    "        'rubanda': 'South_West',\n",
    "        'kanungu': 'South_West',\n",
    "        'rukungiri': 'South_West',\n",
    "        'rubirizi': 'South_West',\n",
    "        'rukiga': 'South_West',\n",
    "        \n",
    "        # Mid West Region\n",
    "        'kagadi': 'Mid_West',\n",
    "        'kagadi - gac': 'Mid_West',\n",
    "        'kagadi - standard': 'Mid_West',\n",
    "        'kagadi_gac': 'Mid_West',\n",
    "        'kagadi_standard': 'Mid_West',\n",
    "        'kyenjojo': 'Mid_West',\n",
    "        'kyenjojo - gac': 'Mid_West',\n",
    "        'kyenjojo - standard': 'Mid_West',\n",
    "        'kibaale': 'Mid_West',\n",
    "        'kiryandongo': 'Mid_West',\n",
    "        \n",
    "        # Eastern Region\n",
    "        'kaliro': 'Eastern',\n",
    "        'luuka': 'Eastern'\n",
    "    }\n",
    "    return mapping"
   ]
  },
  {
   "cell_type": "code",
   "execution_count": null,
   "metadata": {},
   "outputs": [],
   "source": []
  }
 ],
 "metadata": {
  "language_info": {
   "name": "python"
  }
 },
 "nbformat": 4,
 "nbformat_minor": 2
}
